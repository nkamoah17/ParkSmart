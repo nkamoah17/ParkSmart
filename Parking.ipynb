{
 "cells": [
  {
   "cell_type": "markdown",
   "metadata": {
    "colab_type": "text",
    "id": "RxpJvkp0i45X"
   },
   "source": [
    "# Parking Space Detection\n",
    "Cloning M-RCNN repository"
   ]
  },
  {
   "cell_type": "code",
   "execution_count": null,
   "metadata": {
    "colab": {
     "base_uri": "https://localhost:8080/",
     "height": 102
    },
    "colab_type": "code",
    "id": "biEeoxZ96mnf",
    "outputId": "514046f6-642c-4282-d347-e77df9a77aff"
   },
   "outputs": [],
   "source": [
    "git clone https://github.com/matterport/Mask_RCNN.git"
   ]
  },
  {
   "cell_type": "code",
   "execution_count": null,
   "metadata": {},
   "outputs": [],
   "source": [
    "https://github.com/matterport/Mask_RCNN.git"
   ]
  },
  {
   "cell_type": "markdown",
   "metadata": {
    "colab_type": "text",
    "id": "q6RVTOd-lqAw"
   },
   "source": [
    "### Importing required modules"
   ]
  },
  {
   "cell_type": "code",
   "execution_count": 2,
   "metadata": {},
   "outputs": [
    {
     "name": "stdout",
     "output_type": "stream",
     "text": [
      "3.7.3\n"
     ]
    }
   ],
   "source": [
    "from platform import python_version\n",
    "\n",
    "print(python_version())"
   ]
  },
  {
   "cell_type": "code",
   "execution_count": 4,
   "metadata": {
    "colab": {
     "base_uri": "https://localhost:8080/",
     "height": 97
    },
    "colab_type": "code",
    "id": "KmZsqYiM6rDN",
    "outputId": "6ad54ce6-4adf-4b55-f889-1530d489e58e"
   },
   "outputs": [
    {
     "name": "stdout",
     "output_type": "stream",
     "text": [
      "Collecting opencv-python\n",
      "\u001b[?25l  Downloading https://files.pythonhosted.org/packages/34/a3/403dbaef909fee9f9f6a8eaff51d44085a14e5bb1a1ff7257117d744986a/opencv_python-4.2.0.32-cp37-cp37m-manylinux1_x86_64.whl (28.2MB)\n",
      "\u001b[K     |████████████████████████████████| 28.2MB 6.2MB/s eta 0:00:01\n",
      "\u001b[?25hRequirement already satisfied: numpy>=1.14.5 in /home/quenny/snap/jupyter/common/lib/python3.7/site-packages (from opencv-python) (1.18.1)\n",
      "Installing collected packages: opencv-python\n",
      "Successfully installed opencv-python-4.2.0.32\n"
     ]
    },
    {
     "ename": "ImportError",
     "evalue": "libSM.so.6: cannot open shared object file: No such file or directory",
     "output_type": "error",
     "traceback": [
      "\u001b[0;31m---------------------------------------------------------------------------\u001b[0m",
      "\u001b[0;31mImportError\u001b[0m                               Traceback (most recent call last)",
      "\u001b[0;32m<ipython-input-4-79fd657cda33>\u001b[0m in \u001b[0;36m<module>\u001b[0;34m\u001b[0m\n\u001b[1;32m      4\u001b[0m \u001b[0;32mimport\u001b[0m \u001b[0mnumpy\u001b[0m \u001b[0;32mas\u001b[0m \u001b[0mnp\u001b[0m\u001b[0;34m\u001b[0m\u001b[0;34m\u001b[0m\u001b[0m\n\u001b[1;32m      5\u001b[0m \u001b[0mget_ipython\u001b[0m\u001b[0;34m(\u001b[0m\u001b[0;34m)\u001b[0m\u001b[0;34m.\u001b[0m\u001b[0msystem\u001b[0m\u001b[0;34m(\u001b[0m\u001b[0;34m'pip install opencv-python'\u001b[0m\u001b[0;34m)\u001b[0m\u001b[0;34m\u001b[0m\u001b[0;34m\u001b[0m\u001b[0m\n\u001b[0;32m----> 6\u001b[0;31m \u001b[0;32mimport\u001b[0m \u001b[0mcv2\u001b[0m\u001b[0;34m\u001b[0m\u001b[0;34m\u001b[0m\u001b[0m\n\u001b[0m\u001b[1;32m      7\u001b[0m \u001b[0;32mimport\u001b[0m \u001b[0mmrcnn\u001b[0m\u001b[0;34m.\u001b[0m\u001b[0mconfig\u001b[0m\u001b[0;34m\u001b[0m\u001b[0;34m\u001b[0m\u001b[0m\n\u001b[1;32m      8\u001b[0m \u001b[0;32mimport\u001b[0m \u001b[0mmrcnn\u001b[0m\u001b[0;34m.\u001b[0m\u001b[0mutils\u001b[0m\u001b[0;34m\u001b[0m\u001b[0;34m\u001b[0m\u001b[0m\n",
      "\u001b[0;32m/home/quenny/snap/jupyter/common/lib/python3.7/site-packages/cv2/__init__.py\u001b[0m in \u001b[0;36m<module>\u001b[0;34m\u001b[0m\n\u001b[1;32m      1\u001b[0m \u001b[0;32mimport\u001b[0m \u001b[0mimportlib\u001b[0m\u001b[0;34m\u001b[0m\u001b[0;34m\u001b[0m\u001b[0m\n\u001b[1;32m      2\u001b[0m \u001b[0;34m\u001b[0m\u001b[0m\n\u001b[0;32m----> 3\u001b[0;31m \u001b[0;32mfrom\u001b[0m \u001b[0;34m.\u001b[0m\u001b[0mcv2\u001b[0m \u001b[0;32mimport\u001b[0m \u001b[0;34m*\u001b[0m\u001b[0;34m\u001b[0m\u001b[0;34m\u001b[0m\u001b[0m\n\u001b[0m\u001b[1;32m      4\u001b[0m \u001b[0;32mfrom\u001b[0m \u001b[0;34m.\u001b[0m\u001b[0mdata\u001b[0m \u001b[0;32mimport\u001b[0m \u001b[0;34m*\u001b[0m\u001b[0;34m\u001b[0m\u001b[0;34m\u001b[0m\u001b[0m\n\u001b[1;32m      5\u001b[0m \u001b[0;34m\u001b[0m\u001b[0m\n",
      "\u001b[0;31mImportError\u001b[0m: libSM.so.6: cannot open shared object file: No such file or directory"
     ]
    }
   ],
   "source": [
    "import os\n",
    "os.chdir(\"/home/quenny/Desktop/park/parking/Mask_RCNN/\")\n",
    "#!pip install numpy\n",
    "import numpy as np\n",
    "!pip install opencv-python\n",
    "import cv2\n",
    "import mrcnn.config\n",
    "import mrcnn.utils\n",
    "from mrcnn.model import MaskRCNN\n",
    "from pathlib import Path\n",
    "import cv2_imshow\n",
    "import pickle\n",
    "\n",
    "from shapely.geometry import box\n",
    "from shapely.geometry import Polygon as shapely_poly\n",
    "from IPython.display import clear_output, Image, display, HTML\n",
    "import io\n",
    "import base64\n",
    "%matplotlib inline"
   ]
  },
  {
   "cell_type": "markdown",
   "metadata": {
    "colab_type": "text",
    "id": "yUArvFy4lups"
   },
   "source": [
    "### Configuring M-RCNN"
   ]
  },
  {
   "cell_type": "code",
   "execution_count": null,
   "metadata": {
    "colab": {
     "base_uri": "https://localhost:8080/",
     "height": 921
    },
    "colab_type": "code",
    "id": "kNhNipSe80rM",
    "outputId": "e845e521-f734-4c60-f81f-df2b25ad8e4c"
   },
   "outputs": [],
   "source": [
    "class Config(mrcnn.config.Config):\n",
    "    NAME = \"coco_pretrained_model_config\"\n",
    "    IMAGES_PER_GPU = 1\n",
    "    GPU_COUNT = 1\n",
    "    NUM_CLASSES = 81\n",
    "\n",
    "config = Config()\n",
    "config.display()"
   ]
  },
  {
   "cell_type": "code",
   "execution_count": null,
   "metadata": {
    "colab": {},
    "colab_type": "code",
    "id": "Juh-Hok06_ia"
   },
   "outputs": [],
   "source": [
    "ROOT_DIR = Path(\"home/quenny/Desktop/park/parking/Mask_RCNN\")\n",
    "MODEL_DIR = os.path.join(ROOT_DIR, \"logs\")\n",
    "COCO_MODEL_PATH = os.path.join(ROOT_DIR, \"/mask_rcnn_coco.h5\")"
   ]
  },
  {
   "cell_type": "markdown",
   "metadata": {
    "colab_type": "text",
    "id": "LR1YNJarl9u1"
   },
   "source": [
    "### Download pre-trained Model"
   ]
  },
  {
   "cell_type": "code",
   "execution_count": null,
   "metadata": {
    "colab": {
     "base_uri": "https://localhost:8080/",
     "height": 51
    },
    "colab_type": "code",
    "id": "v0BG-bXy7QV7",
    "outputId": "286c9cc0-6430-483b-99c4-5c6484ab7d8d"
   },
   "outputs": [],
   "source": [
    "if not os.path.exists(COCO_MODEL_PATH):\n",
    "    mrcnn.utils.download_trained_weights(COCO_MODEL_PATH)"
   ]
  },
  {
   "cell_type": "markdown",
   "metadata": {
    "colab_type": "text",
    "id": "8SSD6RRamH3e"
   },
   "source": [
    "# Loading pre-trained model "
   ]
  },
  {
   "cell_type": "code",
   "execution_count": null,
   "metadata": {
    "colab": {
     "base_uri": "https://localhost:8080/",
     "height": 496
    },
    "colab_type": "code",
    "id": "zLO8g8dV7-ol",
    "outputId": "6c0f20d7-8810-47c6-8ae5-8d8476452d49"
   },
   "outputs": [],
   "source": [
    "model = MaskRCNN(mode=\"inference\", model_dir=MODEL_DIR, config=Config())"
   ]
  },
  {
   "cell_type": "code",
   "execution_count": null,
   "metadata": {
    "colab": {
     "base_uri": "https://localhost:8080/",
     "height": 241
    },
    "colab_type": "code",
    "id": "_NDUyXt97-yy",
    "outputId": "0ac998e3-c420-4a9a-fb95-f19eb69a02ad"
   },
   "outputs": [],
   "source": [
    "model.load_weights(COCO_MODEL_PATH, by_name=True)"
   ]
  },
  {
   "cell_type": "markdown",
   "metadata": {
    "colab_type": "text",
    "id": "lDVLXxVCmNg7"
   },
   "source": [
    "#### Create data directory"
   ]
  },
  {
   "cell_type": "code",
   "execution_count": null,
   "metadata": {
    "colab": {},
    "colab_type": "code",
    "id": "_HB3h8yb7kbq"
   },
   "outputs": [],
   "source": [
    "#  This will contain test videos and images\n",
    "#if not os.path.exists(\"./data\"):\n",
    "#    os.makedirs(\"./data\")"
   ]
  },
  {
   "cell_type": "markdown",
   "metadata": {
    "colab_type": "text",
    "id": "omx9aaHSmiam"
   },
   "source": [
    "### Uploading data\n",
    "upload your video file and praking regions file using the sidebar. See image for reference.\n",
    "\n",
    "![alt text](https://i.imgur.com/UMu9xV5.png)\n",
    "\n",
    "After uploading the files. Edit the cell below to load the correct files."
   ]
  },
  {
   "cell_type": "code",
   "execution_count": null,
   "metadata": {
    "colab": {},
    "colab_type": "code",
    "id": "GSIGwFVbmVnY"
   },
   "outputs": [],
   "source": [
    "VIDEO_SOURCE = \"home/quenny/Desktop/park/parking/vid3.mp4\"\n",
    "PARKING_REGIONS = \"home/quenny/Desktop/park/parking/regions.p\"\n",
    "with open(PARKING_REGIONS, 'rb') as f:\n",
    "    parked_car_boxes = pickle.load(f)\n",
    "    print(parked_car_boxes)"
   ]
  },
  {
   "cell_type": "markdown",
   "metadata": {
    "colab_type": "text",
    "id": "Va_mnJJqojTB"
   },
   "source": [
    "### Function to filter out car boxes"
   ]
  },
  {
   "cell_type": "code",
   "execution_count": null,
   "metadata": {
    "colab": {},
    "colab_type": "code",
    "id": "xuIxxP4lEaIk"
   },
   "outputs": [],
   "source": [
    "def get_car_boxes(boxes, class_ids):\n",
    "    car_boxes = []\n",
    "\n",
    "    for i, box in enumerate(boxes):\n",
    "        # If the detected object isn't a car / truck, skip it\n",
    "        if class_ids[i] in [3, 8, 6]:\n",
    "            car_boxes.append(box)\n",
    "\n",
    "    return np.array(car_boxes)"
   ]
  },
  {
   "cell_type": "markdown",
   "metadata": {
    "colab_type": "text",
    "id": "hMD6uopdom-z"
   },
   "source": [
    "### Function to compute IoU"
   ]
  },
  {
   "cell_type": "code",
   "execution_count": null,
   "metadata": {
    "colab": {},
    "colab_type": "code",
    "id": "iA7WdE7U76oq"
   },
   "outputs": [],
   "source": [
    "def compute_overlaps(parked_car_boxes, car_boxes):\n",
    "    \n",
    "    new_car_boxes = []\n",
    "    for box in car_boxes:\n",
    "        y1 = box[0]\n",
    "        x1 = box[1]\n",
    "        y2 = box[2]\n",
    "        x2 = box[3]\n",
    "        \n",
    "        p1 = (x1, y1)\n",
    "        p2 = (x2, y1)\n",
    "        p3 = (x2, y2)\n",
    "        p4 = (x1, y2)\n",
    "        new_car_boxes.append([p1, p2, p3, p4])\n",
    "    \n",
    "    overlaps = np.zeros((len(parked_car_boxes), len(new_car_boxes)))\n",
    "    for i in range(len(parked_car_boxes)):\n",
    "        for j in range(car_boxes.shape[0]):\n",
    "            pol1_xy = parked_car_boxes[i]\n",
    "            pol2_xy = new_car_boxes[j]\n",
    "            polygon1_shape = shapely_poly(pol1_xy)\n",
    "            polygon2_shape = shapely_poly(pol2_xy)\n",
    "\n",
    "            polygon_intersection = polygon1_shape.intersection(polygon2_shape).area\n",
    "            polygon_union = polygon1_shape.union(polygon2_shape).area\n",
    "            IOU = polygon_intersection / polygon_union\n",
    "            overlaps[i][j] = IOU\n",
    "\n",
    "    return overlaps"
   ]
  },
  {
   "cell_type": "markdown",
   "metadata": {
    "colab_type": "text",
    "id": "o0s9J8PwoMiU"
   },
   "source": [
    "### Function to display processed images"
   ]
  },
  {
   "cell_type": "code",
   "execution_count": null,
   "metadata": {
    "colab": {},
    "colab_type": "code",
    "id": "pmCYrOA2BAxN"
   },
   "outputs": [],
   "source": [
    "def arrayShow (imageArray):\n",
    "    ret, png = cv2.imencode('.png', imageArray)\n",
    "    encoded = base64.b64encode(png)\n",
    "    return Image(data=encoded.decode('ascii'))"
   ]
  },
  {
   "cell_type": "markdown",
   "metadata": {
    "colab_type": "text",
    "id": "5BkbSaJ3osS8"
   },
   "source": [
    "### Putting it all together"
   ]
  },
  {
   "cell_type": "code",
   "execution_count": null,
   "metadata": {
    "colab": {
     "base_uri": "https://localhost:8080/",
     "height": 711
    },
    "colab_type": "code",
    "id": "zkH4eJjdBBne",
    "outputId": "85d1cc6f-30fd-4eaa-e185-7462cd96a0c0"
   },
   "outputs": [],
   "source": [
    "alpha = 0.6\n",
    "video_capture = cv2.VideoCapture(VIDEO_SOURCE)\n",
    "cnt=0\n",
    "\n",
    "video_FourCC    = cv2.VideoWriter_fourcc('M','J','P','G')\n",
    "video_fps       = video_capture.get(cv2.CAP_PROP_FPS)\n",
    "video_size      = (int(video_capture.get(cv2.CAP_PROP_FRAME_WIDTH)),\n",
    "                    int(video_capture.get(cv2.CAP_PROP_FRAME_HEIGHT)))\n",
    "out = cv2.VideoWriter(\"out.avi\", video_FourCC, video_fps, video_size)\n",
    "\n",
    "while video_capture.isOpened():\n",
    "    success, frame = video_capture.read()\n",
    "    overlay = frame.copy()\n",
    "    if not success:\n",
    "        break\n",
    "\n",
    "    rgb_image = frame[:, :, ::-1]\n",
    "    results = model.detect([rgb_image], verbose=0)\n",
    "\n",
    "    car_boxes = get_car_boxes(results[0]['rois'], results[0]['class_ids'])\n",
    "    overlaps = compute_overlaps(parked_car_boxes, car_boxes)\n",
    "\n",
    "    for parking_area, overlap_areas in zip(parked_car_boxes, overlaps):\n",
    "        max_IoU_overlap = np.max(overlap_areas)\n",
    "        if max_IoU_overlap < 0.15:\n",
    "            cv2.fillPoly(overlay, [np.array(parking_area)], (71, 27, 92))\n",
    "            free_space = True      \n",
    "    cv2.addWeighted(overlay, alpha, frame, 1 - alpha, 0, frame)\n",
    "\n",
    "    out.write(frame)\n",
    "\n",
    "    clear_output(wait=True)\n",
    "    img = arrayShow(frame)\n",
    "    display(img)\n",
    "\n",
    "    if cv2.waitKey(1) & 0xFF == ord('q'):\n",
    "        break\n",
    "\n",
    "video_capture.release()\n",
    "out.release()\n",
    "cv2.destroyAllWindows()"
   ]
  },
  {
   "cell_type": "code",
   "execution_count": null,
   "metadata": {
    "colab": {},
    "colab_type": "code",
    "id": "WdfYs0uUENpd"
   },
   "outputs": [],
   "source": []
  }
 ],
 "metadata": {
  "accelerator": "GPU",
  "colab": {
   "collapsed_sections": [],
   "name": "Parking.ipynb",
   "provenance": []
  },
  "kernelspec": {
   "display_name": "Python 3",
   "language": "python",
   "name": "python3"
  },
  "language_info": {
   "codemirror_mode": {
    "name": "ipython",
    "version": 3
   },
   "file_extension": ".py",
   "mimetype": "text/x-python",
   "name": "python",
   "nbconvert_exporter": "python",
   "pygments_lexer": "ipython3",
   "version": "3.7.3"
  }
 },
 "nbformat": 4,
 "nbformat_minor": 1
}
